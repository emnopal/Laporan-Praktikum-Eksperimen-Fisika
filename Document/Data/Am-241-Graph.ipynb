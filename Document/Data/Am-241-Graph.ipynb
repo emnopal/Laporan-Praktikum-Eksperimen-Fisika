{
 "cells": [
  {
   "cell_type": "code",
   "execution_count": 1,
   "metadata": {},
   "outputs": [],
   "source": [
    "import pandas as pd\n",
    "import matplotlib.pyplot as plt\n",
    "import numpy as np\n",
    "from matplotlib import pylab\n",
    "from sklearn.linear_model import LinearRegression\n",
    "from sklearn.model_selection import train_test_split\n",
    "from sklearn import metrics"
   ]
  },
  {
   "cell_type": "code",
   "execution_count": 2,
   "metadata": {},
   "outputs": [
    {
     "data": {
      "text/html": [
       "<div>\n",
       "<style scoped>\n",
       "    .dataframe tbody tr th:only-of-type {\n",
       "        vertical-align: middle;\n",
       "    }\n",
       "\n",
       "    .dataframe tbody tr th {\n",
       "        vertical-align: top;\n",
       "    }\n",
       "\n",
       "    .dataframe thead th {\n",
       "        text-align: right;\n",
       "    }\n",
       "</style>\n",
       "<table border=\"1\" class=\"dataframe\">\n",
       "  <thead>\n",
       "    <tr style=\"text-align: right;\">\n",
       "      <th></th>\n",
       "      <th>n</th>\n",
       "      <th>ln(w.n!)</th>\n",
       "    </tr>\n",
       "  </thead>\n",
       "  <tbody>\n",
       "    <tr>\n",
       "      <td>0</td>\n",
       "      <td>0</td>\n",
       "      <td>-1.897120</td>\n",
       "    </tr>\n",
       "    <tr>\n",
       "      <td>1</td>\n",
       "      <td>1</td>\n",
       "      <td>-1.331806</td>\n",
       "    </tr>\n",
       "    <tr>\n",
       "      <td>2</td>\n",
       "      <td>2</td>\n",
       "      <td>-0.531028</td>\n",
       "    </tr>\n",
       "    <tr>\n",
       "      <td>3</td>\n",
       "      <td>3</td>\n",
       "      <td>0.109751</td>\n",
       "    </tr>\n",
       "    <tr>\n",
       "      <td>4</td>\n",
       "      <td>4</td>\n",
       "      <td>0.330742</td>\n",
       "    </tr>\n",
       "  </tbody>\n",
       "</table>\n",
       "</div>"
      ],
      "text/plain": [
       "   n  ln(w.n!)\n",
       "0  0 -1.897120\n",
       "1  1 -1.331806\n",
       "2  2 -0.531028\n",
       "3  3  0.109751\n",
       "4  4  0.330742"
      ]
     },
     "execution_count": 2,
     "metadata": {},
     "output_type": "execute_result"
    }
   ],
   "source": [
    "df = pd.read_csv('Am-241-Data.csv', usecols=['n','ln(w.n!)'])\n",
    "df.head()"
   ]
  },
  {
   "cell_type": "code",
   "execution_count": 3,
   "metadata": {},
   "outputs": [
    {
     "name": "stdout",
     "output_type": "stream",
     "text": [
      "Slope (m) =  [[0.73669029]]\n",
      "Intercept (b) =  [-2.12815321]\n",
      "Root Mean Squared Error: 0.9645310150242827\n"
     ]
    }
   ],
   "source": [
    "#fitting\n",
    "x = df['n'].values.reshape(-1,1)\n",
    "y = df['ln(w.n!)'].values.reshape(-1,1)\n",
    "lin_reg = LinearRegression()\n",
    "lin_reg.fit(x, y)\n",
    "print(\"Slope (m) = \", lin_reg.coef_)\n",
    "print(\"Intercept (b) = \", lin_reg.intercept_)\n",
    "print('Root Mean Squared Error:', lin_reg.score(x, y))"
   ]
  },
  {
   "cell_type": "code",
   "execution_count": 4,
   "metadata": {},
   "outputs": [
    {
     "data": {
      "image/png": "[encoded data removed]",
      "text/plain": [
       "<Figure size 432x288 with 1 Axes>"
      ]
     },
     "metadata": {
      "needs_background": "light"
     },
     "output_type": "display_data"
    }
   ],
   "source": [
    "#graph\n",
    "\n",
    "x = df['n']\n",
    "y = df['ln(w.n!)']\n",
    "\n",
    "plt.scatter(x,y,marker='^',c='black',s=12)\n",
    "z = np.polyfit(x, y, 1)\n",
    "p = np.poly1d(z)\n",
    "plt.plot(x,p(x),\"b--\",alpha=0.6)\n",
    "plt.plot(x,y,c='black',ls='-',linewidth=1)\n",
    "\n",
    "plt.title('Grafik persamaan untuk mencari nilai rata-rata pada\\n Eksperimen Distribusi Poisson untuk preparat Am-241', fontsize=12)\n",
    "plt.xlabel(list(df.keys())[0],fontsize=12)\n",
    "plt.ylabel(list(df.keys())[1],fontsize=12)\n",
    "plt.xticks(fontsize=12)\n",
    "plt.yticks(fontsize=12)\n",
    "plt.grid()\n",
    "plt.savefig('Am-241-Graph.png',dpi = 300,bbox_inches='tight')"
   ]
  }
 ],
 "metadata": {
  "kernelspec": {
   "display_name": "Python 3",
   "language": "python",
   "name": "python3"
  },
  "language_info": {
   "codemirror_mode": {
    "name": "ipython",
    "version": 3
   },
   "file_extension": ".py",
   "mimetype": "text/x-python",
   "name": "python",
   "nbconvert_exporter": "python",
   "pygments_lexer": "ipython3",
   "version": "3.7.4"
  }
 },
 "nbformat": 4,
 "nbformat_minor": 2
}
